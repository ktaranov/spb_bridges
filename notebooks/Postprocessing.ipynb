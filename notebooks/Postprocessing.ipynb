{
 "cells": [
  {
   "cell_type": "code",
   "execution_count": 348,
   "metadata": {
    "collapsed": false
   },
   "outputs": [],
   "source": [
    "from pylab import *\n",
    "import seaborn as sns\n",
    "import os\n",
    "import pandas as pd\n",
    "import numpy as np\n",
    "%matplotlib inline"
   ]
  },
  {
   "cell_type": "code",
   "execution_count": 349,
   "metadata": {
    "collapsed": true
   },
   "outputs": [],
   "source": [
    "sns.set_context('paper')"
   ]
  },
  {
   "cell_type": "code",
   "execution_count": 350,
   "metadata": {
    "collapsed": false
   },
   "outputs": [],
   "source": [
    "from keras.models import model_from_json"
   ]
  },
  {
   "cell_type": "code",
   "execution_count": 351,
   "metadata": {
    "collapsed": false
   },
   "outputs": [],
   "source": [
    "json_name = '../src/architecture_2016-08-06-14-35.json'\n",
    "weight_name = '../src/model_weights_2016-08-06-14-35.h5'\n",
    "model = model_from_json(open(json_name).read())\n",
    "model.load_weights(weight_name)"
   ]
  },
  {
   "cell_type": "code",
   "execution_count": 352,
   "metadata": {
    "collapsed": false
   },
   "outputs": [],
   "source": [
    "model.compile(optimizer='adam', loss='binary_crossentropy', metrics=['accuracy'])"
   ]
  },
  {
   "cell_type": "markdown",
   "metadata": {},
   "source": [
    "# Model structure"
   ]
  },
  {
   "cell_type": "code",
   "execution_count": 353,
   "metadata": {
    "collapsed": false
   },
   "outputs": [],
   "source": [
    "from IPython.display import SVG\n",
    "from keras.utils.visualize_util import model_to_dot"
   ]
  },
  {
   "cell_type": "code",
   "execution_count": 354,
   "metadata": {
    "collapsed": false
   },
   "outputs": [
    {
     "data": {
      "image/svg+xml": [
       "<svg height=\"702pt\" viewBox=\"0.00 0.00 226.00 702.00\" width=\"226pt\" xmlns=\"http://www.w3.org/2000/svg\" xmlns:xlink=\"http://www.w3.org/1999/xlink\">\n",
       "<g class=\"graph\" id=\"graph0\" transform=\"scale(1 1) rotate(0) translate(4 698)\">\n",
       "<title>G</title>\n",
       "<polygon fill=\"white\" points=\"-4,4 -4,-698 222,-698 222,4 -4,4\" stroke=\"none\"/>\n",
       "<!-- 140676067278608 -->\n",
       "<g class=\"node\" id=\"node1\"><title>140676067278608</title>\n",
       "<polygon fill=\"none\" points=\"0,-657.5 0,-693.5 218,-693.5 218,-657.5 0,-657.5\" stroke=\"black\"/>\n",
       "<text font-family=\"Times,serif\" font-size=\"14.00\" text-anchor=\"middle\" x=\"109\" y=\"-671.8\">zeropadding2d_input_5 (InputLayer)</text>\n",
       "</g>\n",
       "<!-- 140676067278352 -->\n",
       "<g class=\"node\" id=\"node2\"><title>140676067278352</title>\n",
       "<polygon fill=\"none\" points=\"4.5,-584.5 4.5,-620.5 213.5,-620.5 213.5,-584.5 4.5,-584.5\" stroke=\"black\"/>\n",
       "<text font-family=\"Times,serif\" font-size=\"14.00\" text-anchor=\"middle\" x=\"109\" y=\"-598.8\">zeropadding2d_1 (ZeroPadding2D)</text>\n",
       "</g>\n",
       "<!-- 140676067278608&#45;&gt;140676067278352 -->\n",
       "<g class=\"edge\" id=\"edge1\"><title>140676067278608-&gt;140676067278352</title>\n",
       "<path d=\"M109,-657.313C109,-649.289 109,-639.547 109,-630.569\" fill=\"none\" stroke=\"black\"/>\n",
       "<polygon fill=\"black\" points=\"112.5,-630.529 109,-620.529 105.5,-630.529 112.5,-630.529\" stroke=\"black\"/>\n",
       "</g>\n",
       "<!-- 140675344353552 -->\n",
       "<g class=\"node\" id=\"node3\"><title>140675344353552</title>\n",
       "<polygon fill=\"none\" points=\"6.5,-511.5 6.5,-547.5 211.5,-547.5 211.5,-511.5 6.5,-511.5\" stroke=\"black\"/>\n",
       "<text font-family=\"Times,serif\" font-size=\"14.00\" text-anchor=\"middle\" x=\"109\" y=\"-525.8\">convolution2d_1 (Convolution2D)</text>\n",
       "</g>\n",
       "<!-- 140676067278352&#45;&gt;140675344353552 -->\n",
       "<g class=\"edge\" id=\"edge2\"><title>140676067278352-&gt;140675344353552</title>\n",
       "<path d=\"M109,-584.313C109,-576.289 109,-566.547 109,-557.569\" fill=\"none\" stroke=\"black\"/>\n",
       "<polygon fill=\"black\" points=\"112.5,-557.529 109,-547.529 105.5,-557.529 112.5,-557.529\" stroke=\"black\"/>\n",
       "</g>\n",
       "<!-- 140676068725840 -->\n",
       "<g class=\"node\" id=\"node4\"><title>140676068725840</title>\n",
       "<polygon fill=\"none\" points=\"4.5,-438.5 4.5,-474.5 213.5,-474.5 213.5,-438.5 4.5,-438.5\" stroke=\"black\"/>\n",
       "<text font-family=\"Times,serif\" font-size=\"14.00\" text-anchor=\"middle\" x=\"109\" y=\"-452.8\">zeropadding2d_2 (ZeroPadding2D)</text>\n",
       "</g>\n",
       "<!-- 140675344353552&#45;&gt;140676068725840 -->\n",
       "<g class=\"edge\" id=\"edge3\"><title>140675344353552-&gt;140676068725840</title>\n",
       "<path d=\"M109,-511.313C109,-503.289 109,-493.547 109,-484.569\" fill=\"none\" stroke=\"black\"/>\n",
       "<polygon fill=\"black\" points=\"112.5,-484.529 109,-474.529 105.5,-484.529 112.5,-484.529\" stroke=\"black\"/>\n",
       "</g>\n",
       "<!-- 140676068745616 -->\n",
       "<g class=\"node\" id=\"node5\"><title>140676068745616</title>\n",
       "<polygon fill=\"none\" points=\"6.5,-365.5 6.5,-401.5 211.5,-401.5 211.5,-365.5 6.5,-365.5\" stroke=\"black\"/>\n",
       "<text font-family=\"Times,serif\" font-size=\"14.00\" text-anchor=\"middle\" x=\"109\" y=\"-379.8\">convolution2d_2 (Convolution2D)</text>\n",
       "</g>\n",
       "<!-- 140676068725840&#45;&gt;140676068745616 -->\n",
       "<g class=\"edge\" id=\"edge4\"><title>140676068725840-&gt;140676068745616</title>\n",
       "<path d=\"M109,-438.313C109,-430.289 109,-420.547 109,-411.569\" fill=\"none\" stroke=\"black\"/>\n",
       "<polygon fill=\"black\" points=\"112.5,-411.529 109,-401.529 105.5,-411.529 112.5,-411.529\" stroke=\"black\"/>\n",
       "</g>\n",
       "<!-- 140677241268752 -->\n",
       "<g class=\"node\" id=\"node6\"><title>140677241268752</title>\n",
       "<polygon fill=\"none\" points=\"6,-292.5 6,-328.5 212,-328.5 212,-292.5 6,-292.5\" stroke=\"black\"/>\n",
       "<text font-family=\"Times,serif\" font-size=\"14.00\" text-anchor=\"middle\" x=\"109\" y=\"-306.8\">maxpooling2d_1 (MaxPooling2D)</text>\n",
       "</g>\n",
       "<!-- 140676068745616&#45;&gt;140677241268752 -->\n",
       "<g class=\"edge\" id=\"edge5\"><title>140676068745616-&gt;140677241268752</title>\n",
       "<path d=\"M109,-365.313C109,-357.289 109,-347.547 109,-338.569\" fill=\"none\" stroke=\"black\"/>\n",
       "<polygon fill=\"black\" points=\"112.5,-338.529 109,-328.529 105.5,-338.529 112.5,-338.529\" stroke=\"black\"/>\n",
       "</g>\n",
       "<!-- 140676068645392 -->\n",
       "<g class=\"node\" id=\"node7\"><title>140676068645392</title>\n",
       "<polygon fill=\"none\" points=\"51.5,-219.5 51.5,-255.5 166.5,-255.5 166.5,-219.5 51.5,-219.5\" stroke=\"black\"/>\n",
       "<text font-family=\"Times,serif\" font-size=\"14.00\" text-anchor=\"middle\" x=\"109\" y=\"-233.8\">flatten_1 (Flatten)</text>\n",
       "</g>\n",
       "<!-- 140677241268752&#45;&gt;140676068645392 -->\n",
       "<g class=\"edge\" id=\"edge6\"><title>140677241268752-&gt;140676068645392</title>\n",
       "<path d=\"M109,-292.313C109,-284.289 109,-274.547 109,-265.569\" fill=\"none\" stroke=\"black\"/>\n",
       "<polygon fill=\"black\" points=\"112.5,-265.529 109,-255.529 105.5,-265.529 112.5,-265.529\" stroke=\"black\"/>\n",
       "</g>\n",
       "<!-- 140677241151888 -->\n",
       "<g class=\"node\" id=\"node8\"><title>140677241151888</title>\n",
       "<polygon fill=\"none\" points=\"55.5,-146.5 55.5,-182.5 162.5,-182.5 162.5,-146.5 55.5,-146.5\" stroke=\"black\"/>\n",
       "<text font-family=\"Times,serif\" font-size=\"14.00\" text-anchor=\"middle\" x=\"109\" y=\"-160.8\">dense_1 (Dense)</text>\n",
       "</g>\n",
       "<!-- 140676068645392&#45;&gt;140677241151888 -->\n",
       "<g class=\"edge\" id=\"edge7\"><title>140676068645392-&gt;140677241151888</title>\n",
       "<path d=\"M109,-219.313C109,-211.289 109,-201.547 109,-192.569\" fill=\"none\" stroke=\"black\"/>\n",
       "<polygon fill=\"black\" points=\"112.5,-192.529 109,-182.529 105.5,-192.529 112.5,-192.529\" stroke=\"black\"/>\n",
       "</g>\n",
       "<!-- 140677241214032 -->\n",
       "<g class=\"node\" id=\"node9\"><title>140677241214032</title>\n",
       "<polygon fill=\"none\" points=\"44,-73.5 44,-109.5 174,-109.5 174,-73.5 44,-73.5\" stroke=\"black\"/>\n",
       "<text font-family=\"Times,serif\" font-size=\"14.00\" text-anchor=\"middle\" x=\"109\" y=\"-87.8\">dropout_1 (Dropout)</text>\n",
       "</g>\n",
       "<!-- 140677241151888&#45;&gt;140677241214032 -->\n",
       "<g class=\"edge\" id=\"edge8\"><title>140677241151888-&gt;140677241214032</title>\n",
       "<path d=\"M109,-146.313C109,-138.289 109,-128.547 109,-119.569\" fill=\"none\" stroke=\"black\"/>\n",
       "<polygon fill=\"black\" points=\"112.5,-119.529 109,-109.529 105.5,-119.529 112.5,-119.529\" stroke=\"black\"/>\n",
       "</g>\n",
       "<!-- 140676067822160 -->\n",
       "<g class=\"node\" id=\"node10\"><title>140676067822160</title>\n",
       "<polygon fill=\"none\" points=\"55.5,-0.5 55.5,-36.5 162.5,-36.5 162.5,-0.5 55.5,-0.5\" stroke=\"black\"/>\n",
       "<text font-family=\"Times,serif\" font-size=\"14.00\" text-anchor=\"middle\" x=\"109\" y=\"-14.8\">dense_2 (Dense)</text>\n",
       "</g>\n",
       "<!-- 140677241214032&#45;&gt;140676067822160 -->\n",
       "<g class=\"edge\" id=\"edge9\"><title>140677241214032-&gt;140676067822160</title>\n",
       "<path d=\"M109,-73.3129C109,-65.2895 109,-55.5475 109,-46.5691\" fill=\"none\" stroke=\"black\"/>\n",
       "<polygon fill=\"black\" points=\"112.5,-46.5288 109,-36.5288 105.5,-46.5289 112.5,-46.5288\" stroke=\"black\"/>\n",
       "</g>\n",
       "</g>\n",
       "</svg>"
      ],
      "text/plain": [
       "<IPython.core.display.SVG object>"
      ]
     },
     "execution_count": 354,
     "metadata": {},
     "output_type": "execute_result"
    }
   ],
   "source": [
    "SVG(model_to_dot(model).create(prog='dot', format='svg'))"
   ]
  },
  {
   "cell_type": "markdown",
   "metadata": {},
   "source": [
    "# Training history"
   ]
  },
  {
   "cell_type": "code",
   "execution_count": 355,
   "metadata": {
    "collapsed": true
   },
   "outputs": [],
   "source": [
    "history = pd.read_csv('../src/history_2016-08-06-14-35.csv')"
   ]
  },
  {
   "cell_type": "code",
   "execution_count": 356,
   "metadata": {
    "collapsed": false
   },
   "outputs": [
    {
     "data": {
      "image/png": "[encoded data removed]",
      "text/plain": [
       "<matplotlib.figure.Figure at 0x7ff1b2d70710>"
      ]
     },
     "metadata": {},
     "output_type": "display_data"
    }
   ],
   "source": [
    "plot(history['acc'], label='train accuracy. Higher => Better')\n",
    "plot(history['val_acc'], label='validation accuracy. Higher => Better')\n",
    "legend(loc='lower right')\n",
    "xlabel('num_epoch')\n",
    "ylabel('accuracy [$\\%$]')\n",
    "savefig('accuracy.png')"
   ]
  },
  {
   "cell_type": "code",
   "execution_count": 357,
   "metadata": {
    "collapsed": false
   },
   "outputs": [
    {
     "data": {
      "image/png": "[encoded data removed]",
      "text/plain": [
       "<matplotlib.figure.Figure at 0x7ff1b3072e50>"
      ]
     },
     "metadata": {},
     "output_type": "display_data"
    }
   ],
   "source": [
    "plot(history['loss'], label='train LogLoss. Lower => Better')\n",
    "plot(history['val_loss'], label='validation LogLoss. Lower => Better')\n",
    "legend(loc='lower right')\n",
    "xlabel('num_epoch')\n",
    "ylabel('LogLoss')\n",
    "yscale('log')\n",
    "savefig('LogLoss.png')"
   ]
  },
  {
   "cell_type": "markdown",
   "metadata": {
    "collapsed": true
   },
   "source": [
    "# Model performance on the test set"
   ]
  },
  {
   "cell_type": "code",
   "execution_count": 358,
   "metadata": {
    "collapsed": true
   },
   "outputs": [],
   "source": [
    "from keras.preprocessing.image import ImageDataGenerator"
   ]
  },
  {
   "cell_type": "code",
   "execution_count": 359,
   "metadata": {
    "collapsed": false
   },
   "outputs": [
    {
     "name": "stdout",
     "output_type": "stream",
     "text": [
      "Found 6393 images belonging to 2 classes.\n"
     ]
    }
   ],
   "source": [
    "img_rows, img_cols = 64, 64\n",
    "\n",
    "test_datagen = ImageDataGenerator(rescale=1.0 / 255)\n",
    "\n",
    "test_path = '../data/test'\n",
    "test_generator = test_datagen.flow_from_directory(\n",
    "                                                        test_path,\n",
    "                                                        target_size=(img_rows, img_cols),\n",
    "                                                        class_mode='binary')"
   ]
  },
  {
   "cell_type": "code",
   "execution_count": 360,
   "metadata": {
    "collapsed": false
   },
   "outputs": [],
   "source": [
    "(log_loss_score, accuracy_score) = model.evaluate_generator(test_generator, test_generator.N)"
   ]
  },
  {
   "cell_type": "code",
   "execution_count": 361,
   "metadata": {
    "collapsed": false
   },
   "outputs": [
    {
     "data": {
      "text/plain": [
       "('log_loss_score = ', 0.014433901161286119)"
      ]
     },
     "execution_count": 361,
     "metadata": {},
     "output_type": "execute_result"
    }
   ],
   "source": [
    "'log_loss_score = ', log_loss_score"
   ]
  },
  {
   "cell_type": "code",
   "execution_count": 362,
   "metadata": {
    "collapsed": false
   },
   "outputs": [
    {
     "data": {
      "text/plain": [
       "('accuracy_score = ', 0.99405599874863126)"
      ]
     },
     "execution_count": 362,
     "metadata": {},
     "output_type": "execute_result"
    }
   ],
   "source": [
    "'accuracy_score = ', accuracy_score"
   ]
  },
  {
   "cell_type": "code",
   "execution_count": 363,
   "metadata": {
    "collapsed": false
   },
   "outputs": [],
   "source": [
    "from sklearn.metrics import roc_auc_score, roc_curve, log_loss, accuracy_score"
   ]
  },
  {
   "cell_type": "code",
   "execution_count": 364,
   "metadata": {
    "collapsed": false
   },
   "outputs": [],
   "source": [
    "def extract_datetime(x):\n",
    "    return x.split('.')[1].split('+')[0]    "
   ]
  },
  {
   "cell_type": "code",
   "execution_count": 365,
   "metadata": {
    "collapsed": true
   },
   "outputs": [],
   "source": [
    "test_path = '../data/test'"
   ]
  },
  {
   "cell_type": "code",
   "execution_count": 366,
   "metadata": {
    "collapsed": true
   },
   "outputs": [],
   "source": [
    "up_test_path = os.path.join(test_path, 'up')"
   ]
  },
  {
   "cell_type": "code",
   "execution_count": 367,
   "metadata": {
    "collapsed": true
   },
   "outputs": [],
   "source": [
    "down_test_path = os.path.join(test_path, 'down')"
   ]
  },
  {
   "cell_type": "code",
   "execution_count": 368,
   "metadata": {
    "collapsed": false
   },
   "outputs": [],
   "source": [
    "result = []\n",
    "up_files = os.listdir(up_test_path)\n",
    "for file_name in up_files:\n",
    "    result += [cv2.imread(os.path.join(up_test_path, file_name))]\n",
    "    \n",
    "down_files = os.listdir(down_test_path)\n",
    "for file_name in down_files:\n",
    "    result += [cv2.imread(os.path.join(down_test_path, file_name))]"
   ]
  },
  {
   "cell_type": "code",
   "execution_count": 369,
   "metadata": {
    "collapsed": false
   },
   "outputs": [],
   "source": [
    "result = np.array(result).transpose((0, 3, 1, 2))"
   ]
  },
  {
   "cell_type": "code",
   "execution_count": 370,
   "metadata": {
    "collapsed": false
   },
   "outputs": [],
   "source": [
    "prediction = model.predict(result)"
   ]
  },
  {
   "cell_type": "code",
   "execution_count": 371,
   "metadata": {
    "collapsed": false
   },
   "outputs": [],
   "source": [
    "df = pd.DataFrame()"
   ]
  },
  {
   "cell_type": "code",
   "execution_count": 372,
   "metadata": {
    "collapsed": false
   },
   "outputs": [],
   "source": [
    "df['filename'] = up_files + down_files"
   ]
  },
  {
   "cell_type": "code",
   "execution_count": 373,
   "metadata": {
    "collapsed": false
   },
   "outputs": [],
   "source": [
    "df['prediction'] = prediction"
   ]
  },
  {
   "cell_type": "code",
   "execution_count": 374,
   "metadata": {
    "collapsed": true
   },
   "outputs": [],
   "source": [
    "df['state'] = 0"
   ]
  },
  {
   "cell_type": "code",
   "execution_count": 375,
   "metadata": {
    "collapsed": true
   },
   "outputs": [],
   "source": [
    "df.loc[:len(up_files), 'state'] = 1"
   ]
  },
  {
   "cell_type": "code",
   "execution_count": 376,
   "metadata": {
    "collapsed": false
   },
   "outputs": [],
   "source": [
    "df['datetime'] = pd.to_datetime(df['filename'].apply(extract_datetime))"
   ]
  },
  {
   "cell_type": "code",
   "execution_count": 377,
   "metadata": {
    "collapsed": true
   },
   "outputs": [],
   "source": [
    "df = df.sort_values(by='datetime')"
   ]
  },
  {
   "cell_type": "code",
   "execution_count": 378,
   "metadata": {
    "collapsed": false
   },
   "outputs": [
    {
     "name": "stderr",
     "output_type": "stream",
     "text": [
      "/usr/local/lib/python2.7/dist-packages/ipykernel/__main__.py:1: FutureWarning: pd.rolling_mean is deprecated for ndarrays and will be removed in a future version\n",
      "  if __name__ == '__main__':\n"
     ]
    },
    {
     "data": {
      "image/png": "[encoded data removed]",
      "text/plain": [
       "<matplotlib.figure.Figure at 0x7ff1f850b650>"
      ]
     },
     "metadata": {},
     "output_type": "display_data"
    }
   ],
   "source": [
    "plot(df['datetime'].values[:2000], pd.rolling_mean(df['prediction'].values[:2000], 20), 'd-', label='prediction')\n",
    "plot(df['datetime'].values[:2000], df['state'].values[:2000], 'p-', label='state')\n",
    "xticks(rotation=45)\n",
    "legend(loc='upper right')\n",
    "savefig('rolling_mean.png')"
   ]
  },
  {
   "cell_type": "code",
   "execution_count": 379,
   "metadata": {
    "collapsed": false
   },
   "outputs": [
    {
     "data": {
      "text/plain": [
       "0.98593182957373837"
      ]
     },
     "execution_count": 379,
     "metadata": {},
     "output_type": "execute_result"
    }
   ],
   "source": [
    "roc_auc_score(df['state'].values, df['prediction'])"
   ]
  },
  {
   "cell_type": "code",
   "execution_count": null,
   "metadata": {
    "collapsed": true
   },
   "outputs": [],
   "source": []
  }
 ],
 "metadata": {
  "kernelspec": {
   "display_name": "Python 2",
   "language": "python",
   "name": "python2"
  },
  "language_info": {
   "codemirror_mode": {
    "name": "ipython",
    "version": 2
   },
   "file_extension": ".py",
   "mimetype": "text/x-python",
   "name": "python",
   "nbconvert_exporter": "python",
   "pygments_lexer": "ipython2",
   "version": "2.7.12"
  }
 },
 "nbformat": 4,
 "nbformat_minor": 0
}
